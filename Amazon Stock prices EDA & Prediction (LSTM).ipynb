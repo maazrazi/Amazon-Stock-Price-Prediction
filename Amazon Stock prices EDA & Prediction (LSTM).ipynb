{
 "cells": [
  {
   "cell_type": "code",
   "execution_count": 1,
   "metadata": {},
   "outputs": [],
   "source": [
    "import numpy as np\n",
    "import matplotlib.pyplot as plt\n",
    "import pandas as pd"
   ]
  },
  {
   "cell_type": "code",
   "execution_count": 2,
   "metadata": {},
   "outputs": [],
   "source": [
    "amazon_data = pd.read_csv('amazon_stock_price.csv')"
   ]
  },
  {
   "cell_type": "code",
   "execution_count": 3,
   "metadata": {},
   "outputs": [
    {
     "data": {
      "text/html": [
       "<div>\n",
       "<style scoped>\n",
       "    .dataframe tbody tr th:only-of-type {\n",
       "        vertical-align: middle;\n",
       "    }\n",
       "\n",
       "    .dataframe tbody tr th {\n",
       "        vertical-align: top;\n",
       "    }\n",
       "\n",
       "    .dataframe thead th {\n",
       "        text-align: right;\n",
       "    }\n",
       "</style>\n",
       "<table border=\"1\" class=\"dataframe\">\n",
       "  <thead>\n",
       "    <tr style=\"text-align: right;\">\n",
       "      <th></th>\n",
       "      <th>Date</th>\n",
       "      <th>Open</th>\n",
       "      <th>High</th>\n",
       "      <th>Low</th>\n",
       "      <th>Close</th>\n",
       "      <th>Adj Close</th>\n",
       "      <th>Volume</th>\n",
       "    </tr>\n",
       "  </thead>\n",
       "  <tbody>\n",
       "    <tr>\n",
       "      <th>0</th>\n",
       "      <td>15-05-1997</td>\n",
       "      <td>2.437500</td>\n",
       "      <td>2.500000</td>\n",
       "      <td>1.927083</td>\n",
       "      <td>1.958333</td>\n",
       "      <td>1.958333</td>\n",
       "      <td>72156000</td>\n",
       "    </tr>\n",
       "    <tr>\n",
       "      <th>1</th>\n",
       "      <td>16-05-1997</td>\n",
       "      <td>1.968750</td>\n",
       "      <td>1.979167</td>\n",
       "      <td>1.708333</td>\n",
       "      <td>1.729167</td>\n",
       "      <td>1.729167</td>\n",
       "      <td>14700000</td>\n",
       "    </tr>\n",
       "    <tr>\n",
       "      <th>2</th>\n",
       "      <td>19-05-1997</td>\n",
       "      <td>1.760417</td>\n",
       "      <td>1.770833</td>\n",
       "      <td>1.625000</td>\n",
       "      <td>1.708333</td>\n",
       "      <td>1.708333</td>\n",
       "      <td>6106800</td>\n",
       "    </tr>\n",
       "    <tr>\n",
       "      <th>3</th>\n",
       "      <td>20-05-1997</td>\n",
       "      <td>1.729167</td>\n",
       "      <td>1.750000</td>\n",
       "      <td>1.635417</td>\n",
       "      <td>1.635417</td>\n",
       "      <td>1.635417</td>\n",
       "      <td>5467200</td>\n",
       "    </tr>\n",
       "    <tr>\n",
       "      <th>4</th>\n",
       "      <td>21-05-1997</td>\n",
       "      <td>1.635417</td>\n",
       "      <td>1.645833</td>\n",
       "      <td>1.375000</td>\n",
       "      <td>1.427083</td>\n",
       "      <td>1.427083</td>\n",
       "      <td>18853200</td>\n",
       "    </tr>\n",
       "    <tr>\n",
       "      <th>...</th>\n",
       "      <td>...</td>\n",
       "      <td>...</td>\n",
       "      <td>...</td>\n",
       "      <td>...</td>\n",
       "      <td>...</td>\n",
       "      <td>...</td>\n",
       "      <td>...</td>\n",
       "    </tr>\n",
       "    <tr>\n",
       "      <th>6120</th>\n",
       "      <td>09-09-2021</td>\n",
       "      <td>3526.020020</td>\n",
       "      <td>3549.989990</td>\n",
       "      <td>3480.370117</td>\n",
       "      <td>3484.159912</td>\n",
       "      <td>3484.159912</td>\n",
       "      <td>2719200</td>\n",
       "    </tr>\n",
       "    <tr>\n",
       "      <th>6121</th>\n",
       "      <td>10-09-2021</td>\n",
       "      <td>3501.830078</td>\n",
       "      <td>3508.449951</td>\n",
       "      <td>3462.909912</td>\n",
       "      <td>3469.149902</td>\n",
       "      <td>3469.149902</td>\n",
       "      <td>2393300</td>\n",
       "    </tr>\n",
       "    <tr>\n",
       "      <th>6122</th>\n",
       "      <td>13-09-2021</td>\n",
       "      <td>3482.800049</td>\n",
       "      <td>3497.959961</td>\n",
       "      <td>3438.000000</td>\n",
       "      <td>3457.169922</td>\n",
       "      <td>3457.169922</td>\n",
       "      <td>2569000</td>\n",
       "    </tr>\n",
       "    <tr>\n",
       "      <th>6123</th>\n",
       "      <td>14-09-2021</td>\n",
       "      <td>3475.550049</td>\n",
       "      <td>3486.810059</td>\n",
       "      <td>3437.709961</td>\n",
       "      <td>3450.000000</td>\n",
       "      <td>3450.000000</td>\n",
       "      <td>1936900</td>\n",
       "    </tr>\n",
       "    <tr>\n",
       "      <th>6124</th>\n",
       "      <td>15-09-2021</td>\n",
       "      <td>3442.520020</td>\n",
       "      <td>3485.149902</td>\n",
       "      <td>3402.010010</td>\n",
       "      <td>3475.790039</td>\n",
       "      <td>3475.790039</td>\n",
       "      <td>2921019</td>\n",
       "    </tr>\n",
       "  </tbody>\n",
       "</table>\n",
       "<p>6125 rows × 7 columns</p>\n",
       "</div>"
      ],
      "text/plain": [
       "            Date         Open         High          Low        Close  \\\n",
       "0     15-05-1997     2.437500     2.500000     1.927083     1.958333   \n",
       "1     16-05-1997     1.968750     1.979167     1.708333     1.729167   \n",
       "2     19-05-1997     1.760417     1.770833     1.625000     1.708333   \n",
       "3     20-05-1997     1.729167     1.750000     1.635417     1.635417   \n",
       "4     21-05-1997     1.635417     1.645833     1.375000     1.427083   \n",
       "...          ...          ...          ...          ...          ...   \n",
       "6120  09-09-2021  3526.020020  3549.989990  3480.370117  3484.159912   \n",
       "6121  10-09-2021  3501.830078  3508.449951  3462.909912  3469.149902   \n",
       "6122  13-09-2021  3482.800049  3497.959961  3438.000000  3457.169922   \n",
       "6123  14-09-2021  3475.550049  3486.810059  3437.709961  3450.000000   \n",
       "6124  15-09-2021  3442.520020  3485.149902  3402.010010  3475.790039   \n",
       "\n",
       "        Adj Close    Volume  \n",
       "0        1.958333  72156000  \n",
       "1        1.729167  14700000  \n",
       "2        1.708333   6106800  \n",
       "3        1.635417   5467200  \n",
       "4        1.427083  18853200  \n",
       "...           ...       ...  \n",
       "6120  3484.159912   2719200  \n",
       "6121  3469.149902   2393300  \n",
       "6122  3457.169922   2569000  \n",
       "6123  3450.000000   1936900  \n",
       "6124  3475.790039   2921019  \n",
       "\n",
       "[6125 rows x 7 columns]"
      ]
     },
     "execution_count": 3,
     "metadata": {},
     "output_type": "execute_result"
    }
   ],
   "source": [
    "amazon_data"
   ]
  },
  {
   "cell_type": "code",
   "execution_count": 4,
   "metadata": {},
   "outputs": [
    {
     "data": {
      "text/html": [
       "<div>\n",
       "<style scoped>\n",
       "    .dataframe tbody tr th:only-of-type {\n",
       "        vertical-align: middle;\n",
       "    }\n",
       "\n",
       "    .dataframe tbody tr th {\n",
       "        vertical-align: top;\n",
       "    }\n",
       "\n",
       "    .dataframe thead th {\n",
       "        text-align: right;\n",
       "    }\n",
       "</style>\n",
       "<table border=\"1\" class=\"dataframe\">\n",
       "  <thead>\n",
       "    <tr style=\"text-align: right;\">\n",
       "      <th></th>\n",
       "      <th>Date</th>\n",
       "      <th>Open</th>\n",
       "      <th>High</th>\n",
       "      <th>Low</th>\n",
       "      <th>Close</th>\n",
       "      <th>Adj Close</th>\n",
       "      <th>Volume</th>\n",
       "    </tr>\n",
       "  </thead>\n",
       "  <tbody>\n",
       "    <tr>\n",
       "      <th>0</th>\n",
       "      <td>15-05-1997</td>\n",
       "      <td>2.437500</td>\n",
       "      <td>2.500000</td>\n",
       "      <td>1.927083</td>\n",
       "      <td>1.958333</td>\n",
       "      <td>1.958333</td>\n",
       "      <td>72156000</td>\n",
       "    </tr>\n",
       "    <tr>\n",
       "      <th>1</th>\n",
       "      <td>16-05-1997</td>\n",
       "      <td>1.968750</td>\n",
       "      <td>1.979167</td>\n",
       "      <td>1.708333</td>\n",
       "      <td>1.729167</td>\n",
       "      <td>1.729167</td>\n",
       "      <td>14700000</td>\n",
       "    </tr>\n",
       "    <tr>\n",
       "      <th>2</th>\n",
       "      <td>19-05-1997</td>\n",
       "      <td>1.760417</td>\n",
       "      <td>1.770833</td>\n",
       "      <td>1.625000</td>\n",
       "      <td>1.708333</td>\n",
       "      <td>1.708333</td>\n",
       "      <td>6106800</td>\n",
       "    </tr>\n",
       "    <tr>\n",
       "      <th>3</th>\n",
       "      <td>20-05-1997</td>\n",
       "      <td>1.729167</td>\n",
       "      <td>1.750000</td>\n",
       "      <td>1.635417</td>\n",
       "      <td>1.635417</td>\n",
       "      <td>1.635417</td>\n",
       "      <td>5467200</td>\n",
       "    </tr>\n",
       "    <tr>\n",
       "      <th>4</th>\n",
       "      <td>21-05-1997</td>\n",
       "      <td>1.635417</td>\n",
       "      <td>1.645833</td>\n",
       "      <td>1.375000</td>\n",
       "      <td>1.427083</td>\n",
       "      <td>1.427083</td>\n",
       "      <td>18853200</td>\n",
       "    </tr>\n",
       "  </tbody>\n",
       "</table>\n",
       "</div>"
      ],
      "text/plain": [
       "         Date      Open      High       Low     Close  Adj Close    Volume\n",
       "0  15-05-1997  2.437500  2.500000  1.927083  1.958333   1.958333  72156000\n",
       "1  16-05-1997  1.968750  1.979167  1.708333  1.729167   1.729167  14700000\n",
       "2  19-05-1997  1.760417  1.770833  1.625000  1.708333   1.708333   6106800\n",
       "3  20-05-1997  1.729167  1.750000  1.635417  1.635417   1.635417   5467200\n",
       "4  21-05-1997  1.635417  1.645833  1.375000  1.427083   1.427083  18853200"
      ]
     },
     "execution_count": 4,
     "metadata": {},
     "output_type": "execute_result"
    }
   ],
   "source": [
    "amazon_data.head()"
   ]
  },
  {
   "cell_type": "code",
   "execution_count": 5,
   "metadata": {},
   "outputs": [
    {
     "data": {
      "text/html": [
       "<div>\n",
       "<style scoped>\n",
       "    .dataframe tbody tr th:only-of-type {\n",
       "        vertical-align: middle;\n",
       "    }\n",
       "\n",
       "    .dataframe tbody tr th {\n",
       "        vertical-align: top;\n",
       "    }\n",
       "\n",
       "    .dataframe thead th {\n",
       "        text-align: right;\n",
       "    }\n",
       "</style>\n",
       "<table border=\"1\" class=\"dataframe\">\n",
       "  <thead>\n",
       "    <tr style=\"text-align: right;\">\n",
       "      <th></th>\n",
       "      <th>Date</th>\n",
       "      <th>Open</th>\n",
       "      <th>High</th>\n",
       "      <th>Low</th>\n",
       "      <th>Close</th>\n",
       "      <th>Adj Close</th>\n",
       "      <th>Volume</th>\n",
       "    </tr>\n",
       "  </thead>\n",
       "  <tbody>\n",
       "    <tr>\n",
       "      <th>6120</th>\n",
       "      <td>09-09-2021</td>\n",
       "      <td>3526.020020</td>\n",
       "      <td>3549.989990</td>\n",
       "      <td>3480.370117</td>\n",
       "      <td>3484.159912</td>\n",
       "      <td>3484.159912</td>\n",
       "      <td>2719200</td>\n",
       "    </tr>\n",
       "    <tr>\n",
       "      <th>6121</th>\n",
       "      <td>10-09-2021</td>\n",
       "      <td>3501.830078</td>\n",
       "      <td>3508.449951</td>\n",
       "      <td>3462.909912</td>\n",
       "      <td>3469.149902</td>\n",
       "      <td>3469.149902</td>\n",
       "      <td>2393300</td>\n",
       "    </tr>\n",
       "    <tr>\n",
       "      <th>6122</th>\n",
       "      <td>13-09-2021</td>\n",
       "      <td>3482.800049</td>\n",
       "      <td>3497.959961</td>\n",
       "      <td>3438.000000</td>\n",
       "      <td>3457.169922</td>\n",
       "      <td>3457.169922</td>\n",
       "      <td>2569000</td>\n",
       "    </tr>\n",
       "    <tr>\n",
       "      <th>6123</th>\n",
       "      <td>14-09-2021</td>\n",
       "      <td>3475.550049</td>\n",
       "      <td>3486.810059</td>\n",
       "      <td>3437.709961</td>\n",
       "      <td>3450.000000</td>\n",
       "      <td>3450.000000</td>\n",
       "      <td>1936900</td>\n",
       "    </tr>\n",
       "    <tr>\n",
       "      <th>6124</th>\n",
       "      <td>15-09-2021</td>\n",
       "      <td>3442.520020</td>\n",
       "      <td>3485.149902</td>\n",
       "      <td>3402.010010</td>\n",
       "      <td>3475.790039</td>\n",
       "      <td>3475.790039</td>\n",
       "      <td>2921019</td>\n",
       "    </tr>\n",
       "  </tbody>\n",
       "</table>\n",
       "</div>"
      ],
      "text/plain": [
       "            Date         Open         High          Low        Close  \\\n",
       "6120  09-09-2021  3526.020020  3549.989990  3480.370117  3484.159912   \n",
       "6121  10-09-2021  3501.830078  3508.449951  3462.909912  3469.149902   \n",
       "6122  13-09-2021  3482.800049  3497.959961  3438.000000  3457.169922   \n",
       "6123  14-09-2021  3475.550049  3486.810059  3437.709961  3450.000000   \n",
       "6124  15-09-2021  3442.520020  3485.149902  3402.010010  3475.790039   \n",
       "\n",
       "        Adj Close   Volume  \n",
       "6120  3484.159912  2719200  \n",
       "6121  3469.149902  2393300  \n",
       "6122  3457.169922  2569000  \n",
       "6123  3450.000000  1936900  \n",
       "6124  3475.790039  2921019  "
      ]
     },
     "execution_count": 5,
     "metadata": {},
     "output_type": "execute_result"
    }
   ],
   "source": [
    "amazon_data.tail()"
   ]
  },
  {
   "cell_type": "code",
   "execution_count": 6,
   "metadata": {},
   "outputs": [
    {
     "data": {
      "text/plain": [
       "(6125, 7)"
      ]
     },
     "execution_count": 6,
     "metadata": {},
     "output_type": "execute_result"
    }
   ],
   "source": [
    "amazon_data.shape"
   ]
  },
  {
   "cell_type": "code",
   "execution_count": 7,
   "metadata": {},
   "outputs": [
    {
     "data": {
      "text/plain": [
       "Index(['Date', 'Open', 'High', 'Low', 'Close', 'Adj Close', 'Volume'], dtype='object')"
      ]
     },
     "execution_count": 7,
     "metadata": {},
     "output_type": "execute_result"
    }
   ],
   "source": [
    "amazon_data.columns"
   ]
  },
  {
   "cell_type": "code",
   "execution_count": 8,
   "metadata": {},
   "outputs": [
    {
     "name": "stdout",
     "output_type": "stream",
     "text": [
      "<class 'pandas.core.frame.DataFrame'>\n",
      "RangeIndex: 6125 entries, 0 to 6124\n",
      "Data columns (total 7 columns):\n",
      " #   Column     Non-Null Count  Dtype  \n",
      "---  ------     --------------  -----  \n",
      " 0   Date       6125 non-null   object \n",
      " 1   Open       6125 non-null   float64\n",
      " 2   High       6125 non-null   float64\n",
      " 3   Low        6125 non-null   float64\n",
      " 4   Close      6125 non-null   float64\n",
      " 5   Adj Close  6125 non-null   float64\n",
      " 6   Volume     6125 non-null   int64  \n",
      "dtypes: float64(5), int64(1), object(1)\n",
      "memory usage: 335.1+ KB\n"
     ]
    }
   ],
   "source": [
    "amazon_data.info()"
   ]
  },
  {
   "cell_type": "code",
   "execution_count": 9,
   "metadata": {},
   "outputs": [
    {
     "data": {
      "text/html": [
       "<div>\n",
       "<style scoped>\n",
       "    .dataframe tbody tr th:only-of-type {\n",
       "        vertical-align: middle;\n",
       "    }\n",
       "\n",
       "    .dataframe tbody tr th {\n",
       "        vertical-align: top;\n",
       "    }\n",
       "\n",
       "    .dataframe thead th {\n",
       "        text-align: right;\n",
       "    }\n",
       "</style>\n",
       "<table border=\"1\" class=\"dataframe\">\n",
       "  <thead>\n",
       "    <tr style=\"text-align: right;\">\n",
       "      <th></th>\n",
       "      <th>Open</th>\n",
       "      <th>High</th>\n",
       "      <th>Low</th>\n",
       "      <th>Close</th>\n",
       "      <th>Adj Close</th>\n",
       "      <th>Volume</th>\n",
       "    </tr>\n",
       "  </thead>\n",
       "  <tbody>\n",
       "    <tr>\n",
       "      <th>count</th>\n",
       "      <td>6125.000000</td>\n",
       "      <td>6125.000000</td>\n",
       "      <td>6125.000000</td>\n",
       "      <td>6125.000000</td>\n",
       "      <td>6125.000000</td>\n",
       "      <td>6.125000e+03</td>\n",
       "    </tr>\n",
       "    <tr>\n",
       "      <th>mean</th>\n",
       "      <td>506.711946</td>\n",
       "      <td>512.263599</td>\n",
       "      <td>500.544531</td>\n",
       "      <td>506.589874</td>\n",
       "      <td>506.589874</td>\n",
       "      <td>7.351046e+06</td>\n",
       "    </tr>\n",
       "    <tr>\n",
       "      <th>std</th>\n",
       "      <td>836.045119</td>\n",
       "      <td>844.598987</td>\n",
       "      <td>826.233207</td>\n",
       "      <td>835.548822</td>\n",
       "      <td>835.548822</td>\n",
       "      <td>7.159739e+06</td>\n",
       "    </tr>\n",
       "    <tr>\n",
       "      <th>min</th>\n",
       "      <td>1.406250</td>\n",
       "      <td>1.447917</td>\n",
       "      <td>1.312500</td>\n",
       "      <td>1.395833</td>\n",
       "      <td>1.395833</td>\n",
       "      <td>4.872000e+05</td>\n",
       "    </tr>\n",
       "    <tr>\n",
       "      <th>25%</th>\n",
       "      <td>38.619999</td>\n",
       "      <td>39.439999</td>\n",
       "      <td>38.049999</td>\n",
       "      <td>38.720001</td>\n",
       "      <td>38.720001</td>\n",
       "      <td>3.600100e+06</td>\n",
       "    </tr>\n",
       "    <tr>\n",
       "      <th>50%</th>\n",
       "      <td>91.800003</td>\n",
       "      <td>93.400002</td>\n",
       "      <td>89.750000</td>\n",
       "      <td>91.300003</td>\n",
       "      <td>91.300003</td>\n",
       "      <td>5.483600e+06</td>\n",
       "    </tr>\n",
       "    <tr>\n",
       "      <th>75%</th>\n",
       "      <td>512.989990</td>\n",
       "      <td>519.409973</td>\n",
       "      <td>502.570007</td>\n",
       "      <td>511.890015</td>\n",
       "      <td>511.890015</td>\n",
       "      <td>8.310500e+06</td>\n",
       "    </tr>\n",
       "    <tr>\n",
       "      <th>max</th>\n",
       "      <td>3744.000000</td>\n",
       "      <td>3773.080078</td>\n",
       "      <td>3696.790039</td>\n",
       "      <td>3731.409912</td>\n",
       "      <td>3731.409912</td>\n",
       "      <td>1.043292e+08</td>\n",
       "    </tr>\n",
       "  </tbody>\n",
       "</table>\n",
       "</div>"
      ],
      "text/plain": [
       "              Open         High          Low        Close    Adj Close  \\\n",
       "count  6125.000000  6125.000000  6125.000000  6125.000000  6125.000000   \n",
       "mean    506.711946   512.263599   500.544531   506.589874   506.589874   \n",
       "std     836.045119   844.598987   826.233207   835.548822   835.548822   \n",
       "min       1.406250     1.447917     1.312500     1.395833     1.395833   \n",
       "25%      38.619999    39.439999    38.049999    38.720001    38.720001   \n",
       "50%      91.800003    93.400002    89.750000    91.300003    91.300003   \n",
       "75%     512.989990   519.409973   502.570007   511.890015   511.890015   \n",
       "max    3744.000000  3773.080078  3696.790039  3731.409912  3731.409912   \n",
       "\n",
       "             Volume  \n",
       "count  6.125000e+03  \n",
       "mean   7.351046e+06  \n",
       "std    7.159739e+06  \n",
       "min    4.872000e+05  \n",
       "25%    3.600100e+06  \n",
       "50%    5.483600e+06  \n",
       "75%    8.310500e+06  \n",
       "max    1.043292e+08  "
      ]
     },
     "execution_count": 9,
     "metadata": {},
     "output_type": "execute_result"
    }
   ],
   "source": [
    "amazon_data.describe()"
   ]
  },
  {
   "cell_type": "code",
   "execution_count": 10,
   "metadata": {},
   "outputs": [
    {
     "data": {
      "text/plain": [
       "Date         0\n",
       "Open         0\n",
       "High         0\n",
       "Low          0\n",
       "Close        0\n",
       "Adj Close    0\n",
       "Volume       0\n",
       "dtype: int64"
      ]
     },
     "execution_count": 10,
     "metadata": {},
     "output_type": "execute_result"
    }
   ],
   "source": [
    "amazon_data.isnull().sum()"
   ]
  },
  {
   "cell_type": "code",
   "execution_count": 11,
   "metadata": {},
   "outputs": [],
   "source": [
    "amazon_data=amazon_data.drop(columns=['Adj Close'])"
   ]
  },
  {
   "cell_type": "code",
   "execution_count": 12,
   "metadata": {},
   "outputs": [
    {
     "data": {
      "text/html": [
       "<div>\n",
       "<style scoped>\n",
       "    .dataframe tbody tr th:only-of-type {\n",
       "        vertical-align: middle;\n",
       "    }\n",
       "\n",
       "    .dataframe tbody tr th {\n",
       "        vertical-align: top;\n",
       "    }\n",
       "\n",
       "    .dataframe thead th {\n",
       "        text-align: right;\n",
       "    }\n",
       "</style>\n",
       "<table border=\"1\" class=\"dataframe\">\n",
       "  <thead>\n",
       "    <tr style=\"text-align: right;\">\n",
       "      <th></th>\n",
       "      <th>Date</th>\n",
       "      <th>Open</th>\n",
       "      <th>High</th>\n",
       "      <th>Low</th>\n",
       "      <th>Close</th>\n",
       "      <th>Volume</th>\n",
       "    </tr>\n",
       "  </thead>\n",
       "  <tbody>\n",
       "    <tr>\n",
       "      <th>0</th>\n",
       "      <td>15-05-1997</td>\n",
       "      <td>2.437500</td>\n",
       "      <td>2.500000</td>\n",
       "      <td>1.927083</td>\n",
       "      <td>1.958333</td>\n",
       "      <td>72156000</td>\n",
       "    </tr>\n",
       "    <tr>\n",
       "      <th>1</th>\n",
       "      <td>16-05-1997</td>\n",
       "      <td>1.968750</td>\n",
       "      <td>1.979167</td>\n",
       "      <td>1.708333</td>\n",
       "      <td>1.729167</td>\n",
       "      <td>14700000</td>\n",
       "    </tr>\n",
       "    <tr>\n",
       "      <th>2</th>\n",
       "      <td>19-05-1997</td>\n",
       "      <td>1.760417</td>\n",
       "      <td>1.770833</td>\n",
       "      <td>1.625000</td>\n",
       "      <td>1.708333</td>\n",
       "      <td>6106800</td>\n",
       "    </tr>\n",
       "    <tr>\n",
       "      <th>3</th>\n",
       "      <td>20-05-1997</td>\n",
       "      <td>1.729167</td>\n",
       "      <td>1.750000</td>\n",
       "      <td>1.635417</td>\n",
       "      <td>1.635417</td>\n",
       "      <td>5467200</td>\n",
       "    </tr>\n",
       "    <tr>\n",
       "      <th>4</th>\n",
       "      <td>21-05-1997</td>\n",
       "      <td>1.635417</td>\n",
       "      <td>1.645833</td>\n",
       "      <td>1.375000</td>\n",
       "      <td>1.427083</td>\n",
       "      <td>18853200</td>\n",
       "    </tr>\n",
       "  </tbody>\n",
       "</table>\n",
       "</div>"
      ],
      "text/plain": [
       "         Date      Open      High       Low     Close    Volume\n",
       "0  15-05-1997  2.437500  2.500000  1.927083  1.958333  72156000\n",
       "1  16-05-1997  1.968750  1.979167  1.708333  1.729167  14700000\n",
       "2  19-05-1997  1.760417  1.770833  1.625000  1.708333   6106800\n",
       "3  20-05-1997  1.729167  1.750000  1.635417  1.635417   5467200\n",
       "4  21-05-1997  1.635417  1.645833  1.375000  1.427083  18853200"
      ]
     },
     "execution_count": 12,
     "metadata": {},
     "output_type": "execute_result"
    }
   ],
   "source": [
    "amazon_data.head()"
   ]
  },
  {
   "cell_type": "code",
   "execution_count": 13,
   "metadata": {},
   "outputs": [
    {
     "data": {
      "image/png": "[encoded data removed]",
      "text/plain": [
       "<Figure size 1440x576 with 1 Axes>"
      ]
     },
     "metadata": {
      "needs_background": "light"
     },
     "output_type": "display_data"
    }
   ],
   "source": [
    "fig , ax = plt . subplots ( figsize = ( 20 , 8 ))\n",
    "ax . plot ( amazon_data [ 'Date' ], amazon_data [ 'Close' ], color = 'Red' ) \n",
    "ax . xaxis . set_major_locator ( plt . MaxNLocator ( 15 )) \n",
    "ax . set_xlabel ( 'Date' , fontsize = '11' ) \n",
    "ax . set_ylabel ( 'Price in USD' , fontsize = '11' ) \n",
    "plt . title ( 'Amazon Stock Prices' ) \n",
    "plt . grid ()\n",
    "plt . show ()"
   ]
  },
  {
   "cell_type": "code",
   "execution_count": 14,
   "metadata": {},
   "outputs": [
    {
     "data": {
      "image/png": "[encoded data removed]",
      "text/plain": [
       "<Figure size 1440x576 with 1 Axes>"
      ]
     },
     "metadata": {
      "needs_background": "light"
     },
     "output_type": "display_data"
    }
   ],
   "source": [
    "fig , ax = plt . subplots ( figsize = ( 20 , 8 ))\n",
    "ax . bar( amazon_data [ 'Date' ], amazon_data [ 'Volume' ]) \n",
    "ax . xaxis . set_major_locator ( plt . MaxNLocator ( 15 )) \n",
    "ax . set_xlabel ( 'Date' , fontsize = '11' ) \n",
    "ax . set_ylabel ( 'Volumes' , fontsize = '11' ) \n",
    "plt . title ( 'Volume Trends' ) \n",
    "plt . grid ()\n",
    "plt . show ()"
   ]
  },
  {
   "cell_type": "code",
   "execution_count": 15,
   "metadata": {},
   "outputs": [],
   "source": [
    "amazon_data['Market Cap']=amazon_data['Open']*amazon_data['Volume']"
   ]
  },
  {
   "cell_type": "code",
   "execution_count": 16,
   "metadata": {},
   "outputs": [
    {
     "data": {
      "image/png": "[encoded data removed]",
      "text/plain": [
       "<Figure size 1440x576 with 1 Axes>"
      ]
     },
     "metadata": {
      "needs_background": "light"
     },
     "output_type": "display_data"
    }
   ],
   "source": [
    "fig , ax = plt . subplots ( figsize = ( 20 , 8 ))\n",
    "ax . bar( amazon_data [ 'Date' ], amazon_data [ 'Market Cap' ], color='orange') \n",
    "ax . xaxis . set_major_locator ( plt . MaxNLocator ( 15 )) \n",
    "ax . set_xlabel ( 'Date' , fontsize = '11' ) \n",
    "ax . set_ylabel ( 'Market Cap' , fontsize = '11' ) \n",
    "plt . title ( 'Volume Trends' ) \n",
    "plt . grid ()\n",
    "plt . show ()"
   ]
  },
  {
   "cell_type": "code",
   "execution_count": 17,
   "metadata": {},
   "outputs": [
    {
     "data": {
      "text/plain": [
       "Date           30-07-2021\n",
       "Open              3347.95\n",
       "High              3368.14\n",
       "Low               3306.98\n",
       "Close             3327.59\n",
       "Volume            9957100\n",
       "Market Cap    3.33359e+10\n",
       "Name: 6092, dtype: object"
      ]
     },
     "execution_count": 17,
     "metadata": {},
     "output_type": "execute_result"
    }
   ],
   "source": [
    "amazon_data.iloc[amazon_data['Market Cap'].argmax()]"
   ]
  },
  {
   "cell_type": "code",
   "execution_count": 18,
   "metadata": {},
   "outputs": [],
   "source": [
    "from sklearn.preprocessing import MinMaxScaler\n",
    "from keras.models import Sequential\n",
    "from keras.layers import Dense, LSTM\n",
    "import math"
   ]
  },
  {
   "cell_type": "code",
   "execution_count": null,
   "metadata": {},
   "outputs": [],
   "source": [
    "amazon_data['Date']=pd.to_datetime(amazon_data['Date'])\n",
    "amazon_data.set_index('Date',inplace=True)"
   ]
  },
  {
   "cell_type": "code",
   "execution_count": 19,
   "metadata": {},
   "outputs": [
    {
     "data": {
      "text/html": [
       "<div>\n",
       "<style scoped>\n",
       "    .dataframe tbody tr th:only-of-type {\n",
       "        vertical-align: middle;\n",
       "    }\n",
       "\n",
       "    .dataframe tbody tr th {\n",
       "        vertical-align: top;\n",
       "    }\n",
       "\n",
       "    .dataframe thead th {\n",
       "        text-align: right;\n",
       "    }\n",
       "</style>\n",
       "<table border=\"1\" class=\"dataframe\">\n",
       "  <thead>\n",
       "    <tr style=\"text-align: right;\">\n",
       "      <th></th>\n",
       "      <th>Date</th>\n",
       "      <th>Open</th>\n",
       "      <th>High</th>\n",
       "      <th>Low</th>\n",
       "      <th>Close</th>\n",
       "      <th>Volume</th>\n",
       "      <th>Market Cap</th>\n",
       "    </tr>\n",
       "  </thead>\n",
       "  <tbody>\n",
       "    <tr>\n",
       "      <th>0</th>\n",
       "      <td>15-05-1997</td>\n",
       "      <td>2.437500</td>\n",
       "      <td>2.500000</td>\n",
       "      <td>1.927083</td>\n",
       "      <td>1.958333</td>\n",
       "      <td>72156000</td>\n",
       "      <td>1.758802e+08</td>\n",
       "    </tr>\n",
       "    <tr>\n",
       "      <th>1</th>\n",
       "      <td>16-05-1997</td>\n",
       "      <td>1.968750</td>\n",
       "      <td>1.979167</td>\n",
       "      <td>1.708333</td>\n",
       "      <td>1.729167</td>\n",
       "      <td>14700000</td>\n",
       "      <td>2.894062e+07</td>\n",
       "    </tr>\n",
       "    <tr>\n",
       "      <th>2</th>\n",
       "      <td>19-05-1997</td>\n",
       "      <td>1.760417</td>\n",
       "      <td>1.770833</td>\n",
       "      <td>1.625000</td>\n",
       "      <td>1.708333</td>\n",
       "      <td>6106800</td>\n",
       "      <td>1.075051e+07</td>\n",
       "    </tr>\n",
       "    <tr>\n",
       "      <th>3</th>\n",
       "      <td>20-05-1997</td>\n",
       "      <td>1.729167</td>\n",
       "      <td>1.750000</td>\n",
       "      <td>1.635417</td>\n",
       "      <td>1.635417</td>\n",
       "      <td>5467200</td>\n",
       "      <td>9.453702e+06</td>\n",
       "    </tr>\n",
       "    <tr>\n",
       "      <th>4</th>\n",
       "      <td>21-05-1997</td>\n",
       "      <td>1.635417</td>\n",
       "      <td>1.645833</td>\n",
       "      <td>1.375000</td>\n",
       "      <td>1.427083</td>\n",
       "      <td>18853200</td>\n",
       "      <td>3.083284e+07</td>\n",
       "    </tr>\n",
       "  </tbody>\n",
       "</table>\n",
       "</div>"
      ],
      "text/plain": [
       "         Date      Open      High       Low     Close    Volume    Market Cap\n",
       "0  15-05-1997  2.437500  2.500000  1.927083  1.958333  72156000  1.758802e+08\n",
       "1  16-05-1997  1.968750  1.979167  1.708333  1.729167  14700000  2.894062e+07\n",
       "2  19-05-1997  1.760417  1.770833  1.625000  1.708333   6106800  1.075051e+07\n",
       "3  20-05-1997  1.729167  1.750000  1.635417  1.635417   5467200  9.453702e+06\n",
       "4  21-05-1997  1.635417  1.645833  1.375000  1.427083  18853200  3.083284e+07"
      ]
     },
     "execution_count": 19,
     "metadata": {},
     "output_type": "execute_result"
    }
   ],
   "source": [
    "amazon_data.head()"
   ]
  },
  {
   "cell_type": "code",
   "execution_count": 20,
   "metadata": {},
   "outputs": [
    {
     "data": {
      "text/plain": [
       "4900"
      ]
     },
     "execution_count": 20,
     "metadata": {},
     "output_type": "execute_result"
    }
   ],
   "source": [
    "data=amazon_data.filter(['Close'])\n",
    "dataset=data.values\n",
    "training_data_len=math.ceil(len(dataset)*.8)\n",
    "training_data_len"
   ]
  },
  {
   "cell_type": "code",
   "execution_count": 21,
   "metadata": {},
   "outputs": [
    {
     "data": {
      "text/plain": [
       "array([[1.50803720e-04],\n",
       "       [8.93653463e-05],\n",
       "       [8.37798446e-05],\n",
       "       ...,\n",
       "       [9.26477492e-01],\n",
       "       [9.24555268e-01],\n",
       "       [9.31469462e-01]])"
      ]
     },
     "execution_count": 21,
     "metadata": {},
     "output_type": "execute_result"
    }
   ],
   "source": [
    "scaler=MinMaxScaler(feature_range=(0,1))\n",
    "scaled_data=scaler.fit_transform(dataset)\n",
    "scaled_data"
   ]
  },
  {
   "cell_type": "code",
   "execution_count": 22,
   "metadata": {},
   "outputs": [],
   "source": [
    "train_data = scaled_data [ 0 : training_data_len , :]\n",
    "x_train = [] \n",
    "y_train = [] \n",
    "for i in range ( 60 , len ( train_data )): \n",
    "    x_train . append ( train_data [ i - 60 : i , 0 ]) \n",
    "    y_train . append ( train_data [ i , 0 ])\n"
   ]
  },
  {
   "cell_type": "code",
   "execution_count": 24,
   "metadata": {},
   "outputs": [],
   "source": [
    "x_train, y_train = np.array(x_train), np.array(y_train)"
   ]
  },
  {
   "cell_type": "code",
   "execution_count": 25,
   "metadata": {},
   "outputs": [
    {
     "data": {
      "text/plain": [
       "(4840, 60, 1)"
      ]
     },
     "execution_count": 25,
     "metadata": {},
     "output_type": "execute_result"
    }
   ],
   "source": [
    "x_train=np.reshape(x_train,(x_train.shape[0],x_train.shape[1],1))\n",
    "x_train.shape"
   ]
  },
  {
   "cell_type": "code",
   "execution_count": 27,
   "metadata": {},
   "outputs": [],
   "source": [
    "model=Sequential()\n",
    "model.add(LSTM(64,return_sequences=True,input_shape=(x_train.shape[1],1)))\n",
    "model.add(LSTM(64,return_sequences=False))\n",
    "model.add(Dense(32))\n",
    "model.add(Dense(1))"
   ]
  },
  {
   "cell_type": "code",
   "execution_count": 28,
   "metadata": {},
   "outputs": [],
   "source": [
    "model.compile(optimizer='adam',loss='mean_squared_error')"
   ]
  },
  {
   "cell_type": "code",
   "execution_count": 29,
   "metadata": {},
   "outputs": [
    {
     "name": "stdout",
     "output_type": "stream",
     "text": [
      "Epoch 1/10\n",
      "4840/4840 [==============================] - 172s 34ms/step - loss: 6.0995e-05\n",
      "Epoch 2/10\n",
      "4840/4840 [==============================] - 167s 35ms/step - loss: 2.2540e-05\n",
      "Epoch 3/10\n",
      "4840/4840 [==============================] - 163s 34ms/step - loss: 2.1723e-05\n",
      "Epoch 4/10\n",
      "4840/4840 [==============================] - 163s 34ms/step - loss: 1.2588e-05\n",
      "Epoch 5/10\n",
      "4840/4840 [==============================] - 163s 34ms/step - loss: 1.1825e-05\n",
      "Epoch 6/10\n",
      "4840/4840 [==============================] - 157s 32ms/step - loss: 9.8591e-06\n",
      "Epoch 7/10\n",
      "4840/4840 [==============================] - 163s 34ms/step - loss: 9.1152e-06\n",
      "Epoch 8/10\n",
      "4840/4840 [==============================] - 164s 34ms/step - loss: 1.0011e-05\n",
      "Epoch 9/10\n",
      "4840/4840 [==============================] - 164s 34ms/step - loss: 7.5586e-06\n",
      "Epoch 10/10\n",
      "4840/4840 [==============================] - 161s 33ms/step - loss: 6.7930e-06\n"
     ]
    },
    {
     "data": {
      "text/plain": [
       "<keras.callbacks.History at 0x149f35f1188>"
      ]
     },
     "execution_count": 29,
     "metadata": {},
     "output_type": "execute_result"
    }
   ],
   "source": [
    "model.fit(x_train,y_train,batch_size=1,epochs=10)"
   ]
  },
  {
   "cell_type": "code",
   "execution_count": 30,
   "metadata": {},
   "outputs": [],
   "source": [
    "test_data = scaled_data [ training_data_len - 60 :, :]\n",
    "x_test = [] \n",
    "y_test = dataset [ training_data_len :,:]\n",
    "for i in range ( 60 , len ( test_data )):\n",
    "    x_test . append ( test_data [ i - 60 : i , 0 ])"
   ]
  },
  {
   "cell_type": "code",
   "execution_count": 31,
   "metadata": {},
   "outputs": [],
   "source": [
    "x_test=np.array(x_test) "
   ]
  },
  {
   "cell_type": "code",
   "execution_count": 32,
   "metadata": {},
   "outputs": [
    {
     "data": {
      "text/plain": [
       "(1225, 60, 1)"
      ]
     },
     "execution_count": 32,
     "metadata": {},
     "output_type": "execute_result"
    }
   ],
   "source": [
    "x_test = np . reshape ( x_test , ( x_test . shape [ 0 ], x_test . shape [ 1 ], 1 )) \n",
    "x_test . shape"
   ]
  },
  {
   "cell_type": "code",
   "execution_count": 33,
   "metadata": {},
   "outputs": [],
   "source": [
    "predictions=model.predict(x_test)\n",
    "predictions=scaler.inverse_transform(predictions)"
   ]
  },
  {
   "cell_type": "code",
   "execution_count": 35,
   "metadata": {},
   "outputs": [
    {
     "data": {
      "text/plain": [
       "299.7347445344706"
      ]
     },
     "execution_count": 35,
     "metadata": {},
     "output_type": "execute_result"
    }
   ],
   "source": [
    "rmse=np.sqrt(np.mean(predictions-y_test)**2)\n",
    "rmse"
   ]
  },
  {
   "cell_type": "code",
   "execution_count": 36,
   "metadata": {},
   "outputs": [
    {
     "name": "stderr",
     "output_type": "stream",
     "text": [
      "C:\\Users\\Hp\\anaconda3\\lib\\site-packages\\ipykernel_launcher.py:3: SettingWithCopyWarning: \n",
      "A value is trying to be set on a copy of a slice from a DataFrame.\n",
      "Try using .loc[row_indexer,col_indexer] = value instead\n",
      "\n",
      "See the caveats in the documentation: https://pandas.pydata.org/pandas-docs/stable/user_guide/indexing.html#returning-a-view-versus-a-copy\n",
      "  This is separate from the ipykernel package so we can avoid doing imports until\n",
      "C:\\Users\\Hp\\anaconda3\\lib\\site-packages\\ipykernel_launcher.py:10: MatplotlibDeprecationWarning: Unrecognized location 'upper_center'. Falling back on 'best'; valid locations are\n",
      "\tbest\n",
      "\tupper right\n",
      "\tupper left\n",
      "\tlower left\n",
      "\tlower right\n",
      "\tright\n",
      "\tcenter left\n",
      "\tcenter right\n",
      "\tlower center\n",
      "\tupper center\n",
      "\tcenter\n",
      "This will raise an exception in 3.3.\n",
      "  # Remove the CWD from sys.path while we load stuff.\n"
     ]
    },
    {
     "data": {
      "text/plain": [
       "<matplotlib.legend.Legend at 0x149f3682dc8>"
      ]
     },
     "execution_count": 36,
     "metadata": {},
     "output_type": "execute_result"
    },
    {
     "data": {
      "image/png": "[encoded data removed]",
      "text/plain": [
       "<Figure size 1152x576 with 1 Axes>"
      ]
     },
     "metadata": {
      "needs_background": "light"
     },
     "output_type": "display_data"
    }
   ],
   "source": [
    "train = data [: training_data_len ]\n",
    "valid = data [ training_data_len :] \n",
    "valid [ 'Predictions' ] = predictions \n",
    "plt . figure ( figsize = ( 16 , 8 )) \n",
    "plt . title ( 'Model' ) \n",
    "plt . xlabel ( 'Date' , fontsize = 18 ) \n",
    "plt . ylabel ( 'Close Price' , fontsize = 18 ) \n",
    "plt . plot ( train [ 'Close' ], linewidth = 3.5 ) \n",
    "plt . plot ( valid [[ 'Close' , 'Predictions' ]], linewidth = 3.5 ) \n",
    "plt . legend ([ 'Train' , 'Valid' , 'Predictions' ], loc = 'upper_center' )"
   ]
  },
  {
   "cell_type": "code",
   "execution_count": 37,
   "metadata": {},
   "outputs": [
    {
     "data": {
      "text/html": [
       "<div>\n",
       "<style scoped>\n",
       "    .dataframe tbody tr th:only-of-type {\n",
       "        vertical-align: middle;\n",
       "    }\n",
       "\n",
       "    .dataframe tbody tr th {\n",
       "        vertical-align: top;\n",
       "    }\n",
       "\n",
       "    .dataframe thead th {\n",
       "        text-align: right;\n",
       "    }\n",
       "</style>\n",
       "<table border=\"1\" class=\"dataframe\">\n",
       "  <thead>\n",
       "    <tr style=\"text-align: right;\">\n",
       "      <th></th>\n",
       "      <th>Close</th>\n",
       "      <th>Predictions</th>\n",
       "    </tr>\n",
       "  </thead>\n",
       "  <tbody>\n",
       "    <tr>\n",
       "      <th>4900</th>\n",
       "      <td>765.559998</td>\n",
       "      <td>756.667053</td>\n",
       "    </tr>\n",
       "    <tr>\n",
       "      <th>4901</th>\n",
       "      <td>767.030029</td>\n",
       "      <td>738.306213</td>\n",
       "    </tr>\n",
       "    <tr>\n",
       "      <th>4902</th>\n",
       "      <td>755.049988</td>\n",
       "      <td>739.994263</td>\n",
       "    </tr>\n",
       "    <tr>\n",
       "      <th>4903</th>\n",
       "      <td>784.929993</td>\n",
       "      <td>729.044434</td>\n",
       "    </tr>\n",
       "    <tr>\n",
       "      <th>4904</th>\n",
       "      <td>787.750000</td>\n",
       "      <td>756.966736</td>\n",
       "    </tr>\n",
       "    <tr>\n",
       "      <th>...</th>\n",
       "      <td>...</td>\n",
       "      <td>...</td>\n",
       "    </tr>\n",
       "    <tr>\n",
       "      <th>6120</th>\n",
       "      <td>3484.159912</td>\n",
       "      <td>2684.343506</td>\n",
       "    </tr>\n",
       "    <tr>\n",
       "      <th>6121</th>\n",
       "      <td>3469.149902</td>\n",
       "      <td>2653.450195</td>\n",
       "    </tr>\n",
       "    <tr>\n",
       "      <th>6122</th>\n",
       "      <td>3457.169922</td>\n",
       "      <td>2648.197998</td>\n",
       "    </tr>\n",
       "    <tr>\n",
       "      <th>6123</th>\n",
       "      <td>3450.000000</td>\n",
       "      <td>2642.595459</td>\n",
       "    </tr>\n",
       "    <tr>\n",
       "      <th>6124</th>\n",
       "      <td>3475.790039</td>\n",
       "      <td>2639.133301</td>\n",
       "    </tr>\n",
       "  </tbody>\n",
       "</table>\n",
       "<p>1225 rows × 2 columns</p>\n",
       "</div>"
      ],
      "text/plain": [
       "            Close  Predictions\n",
       "4900   765.559998   756.667053\n",
       "4901   767.030029   738.306213\n",
       "4902   755.049988   739.994263\n",
       "4903   784.929993   729.044434\n",
       "4904   787.750000   756.966736\n",
       "...           ...          ...\n",
       "6120  3484.159912  2684.343506\n",
       "6121  3469.149902  2653.450195\n",
       "6122  3457.169922  2648.197998\n",
       "6123  3450.000000  2642.595459\n",
       "6124  3475.790039  2639.133301\n",
       "\n",
       "[1225 rows x 2 columns]"
      ]
     },
     "execution_count": 37,
     "metadata": {},
     "output_type": "execute_result"
    }
   ],
   "source": [
    "valid"
   ]
  },
  {
   "cell_type": "code",
   "execution_count": 39,
   "metadata": {},
   "outputs": [
    {
     "data": {
      "text/plain": [
       "array([[2657.5461]], dtype=float32)"
      ]
     },
     "execution_count": 39,
     "metadata": {},
     "output_type": "execute_result"
    }
   ],
   "source": [
    "amazon_quote=pd.read_csv('amazon_stock_price.csv')\n",
    "new_amazon_data=amazon_quote.filter(['Close'])\n",
    "last_60_days=new_amazon_data[-60:].values\n",
    "last_60_days_scaled=scaler.transform(last_60_days)\n",
    "X_test=[]\n",
    "X_test.append(last_60_days_scaled)\n",
    "X_test=np.array(X_test)\n",
    "X_test=np.reshape(X_test,(X_test.shape[0],X_test.shape[1],1))\n",
    "pred_price=model.predict(X_test)\n",
    "pred_price=scaler.inverse_transform(pred_price)\n",
    "pred_price"
   ]
  },
  {
   "cell_type": "code",
   "execution_count": null,
   "metadata": {},
   "outputs": [],
   "source": []
  }
 ],
 "metadata": {
  "kernelspec": {
   "display_name": "Python 3",
   "language": "python",
   "name": "python3"
  },
  "language_info": {
   "codemirror_mode": {
    "name": "ipython",
    "version": 3
   },
   "file_extension": ".py",
   "mimetype": "text/x-python",
   "name": "python",
   "nbconvert_exporter": "python",
   "pygments_lexer": "ipython3",
   "version": "3.7.6"
  }
 },
 "nbformat": 4,
 "nbformat_minor": 4
}
